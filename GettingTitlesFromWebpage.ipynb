{
 "cells": [
  {
   "cell_type": "code",
   "execution_count": 6,
   "id": "c8ea364f",
   "metadata": {},
   "outputs": [],
   "source": [
    "import requests\n",
    "from bs4 import BeautifulSoup\n"
   ]
  },
  {
   "cell_type": "code",
   "execution_count": 8,
   "id": "33fa9fde",
   "metadata": {},
   "outputs": [],
   "source": [
    "url = 'https://www.nytimes.com/'\n",
    "r= requests.get(url)"
   ]
  },
  {
   "cell_type": "code",
   "execution_count": 50,
   "id": "0c508f8d",
   "metadata": {
    "scrolled": true
   },
   "outputs": [
    {
     "name": "stdout",
     "output_type": "stream",
     "text": [
      "What We Gain by Enchanting the Objects in Our Lives\n",
      "Putin Has the U.S. Right Where He Wants It\n",
      "What Does It Mean to Be ‘Done With Covid’?\n",
      "What My Queer Uncle Taught Me About How to Live\n",
      "The Strange Allure of the Blockchain\n",
      "The Right Way to Stop Rising Crime in New York\n",
      "Russia and Ukraine: How to Avoid a War\n",
      "We Can’t Work It Out: Why I Finally Broke Up With the Beatles\n",
      "New York Restaurant Won’t Face City Scrutiny for Admitting Sarah Palin\n",
      "Nearly Two Dozen Charged in Fraud Ring That Staged Car Crashes, U.S. Says\n",
      "Melania Trump’s Hat Auction Hit by Plunge in Cryptocurrency\n",
      "Man Admits He Tried to Smuggle 2 Men Into U.S. in a Coffin\n",
      "Michael Avenatti Will Represent Himself During Remainder of His Trial\n",
      "Champion Surfer Withdraws From Season to Focus on Mental Health\n",
      "Guatemala Sentences Former Fighters to 30 Years in Prison for Rape\n",
      "Cardi B Awarded $4 Million in Libel Lawsuit Against Gossip Blogger\n"
     ]
    }
   ],
   "source": [
    "soup = BeautifulSoup(r.text)\n",
    "for head in soup.find_all(class_=\"css-eylb5n\"):\n",
    "    if head.a:\n",
    "        print(head.a.text.replace(\"\\n\", \" \").strip())\n",
    "    else:\n",
    "        print(head.contents[0].strip())"
   ]
  }
 ],
 "metadata": {
  "kernelspec": {
   "display_name": "Python 3 (ipykernel)",
   "language": "python",
   "name": "python3"
  },
  "language_info": {
   "codemirror_mode": {
    "name": "ipython",
    "version": 3
   },
   "file_extension": ".py",
   "mimetype": "text/x-python",
   "name": "python",
   "nbconvert_exporter": "python",
   "pygments_lexer": "ipython3",
   "version": "3.9.7"
  }
 },
 "nbformat": 4,
 "nbformat_minor": 5
}
