{
 "cells": [
  {
   "cell_type": "code",
   "execution_count": 1,
   "id": "09146999",
   "metadata": {},
   "outputs": [],
   "source": [
    "import random"
   ]
  },
  {
   "cell_type": "code",
   "execution_count": 6,
   "id": "404ea242",
   "metadata": {},
   "outputs": [],
   "source": [
    "def get_Input():\n",
    "    ret=input(\"Rock, Paper, Scissors? \\\"exit\\\" to quit\")\n",
    "    return ret"
   ]
  },
  {
   "cell_type": "code",
   "execution_count": 2,
   "id": "e0a68c5d",
   "metadata": {},
   "outputs": [],
   "source": [
    "\n",
    "def check_input():\n",
    "    b =False\n",
    "    cor=['r','p','s']\n",
    "    while b == False:\n",
    "        inp=get_Input()\n",
    "        try:\n",
    "            inp[0]\n",
    "        except(IndexError):\n",
    "            print(\"Invalid input, try again\")\n",
    "            continue \n",
    "        if inp=='exit':\n",
    "            print(\"goodbye\")\n",
    "            assert(False)\n",
    "        elif inp[0] in cor:\n",
    "            b=True\n",
    "         \n",
    "        else:\n",
    "            print(\"Invalid input, try again\")\n",
    "            continue\n",
    "    return inp[0]"
   ]
  },
  {
   "cell_type": "code",
   "execution_count": 3,
   "id": "51ece5f7",
   "metadata": {},
   "outputs": [],
   "source": [
    "def cpuans():\n",
    "    x=random.randint(0,2)\n",
    "    return x\n",
    "    "
   ]
  },
  {
   "cell_type": "code",
   "execution_count": 4,
   "id": "a274ddf8",
   "metadata": {},
   "outputs": [],
   "source": [
    "def main():\n",
    "    key={\"You Win\":[('r',2),('p',0),('s',1)],\"Tie\":[('r',0),('p',1),('s',2)],\"You Lose\":[('r',1),('p',2),('s',0)]}\n",
    "    ret=(check_input(),cpuans())\n",
    "    ans = [k for k, v in key.items() for i in v if ret==i]\n",
    "    print(ans)\n",
    "    a=input(\"Play again? y/n\")\n",
    "    if a.startswith('y'):\n",
    "        main()\n",
    "    \n",
    "    \n",
    "   "
   ]
  },
  {
   "cell_type": "code",
   "execution_count": 7,
   "id": "a99cbf47",
   "metadata": {},
   "outputs": [
    {
     "name": "stdout",
     "output_type": "stream",
     "text": [
      "Rock, Paper, Scissors? \"exit\" to quitr\n",
      "['Tie']\n",
      "Play again? y/nn\n"
     ]
    }
   ],
   "source": [
    "main()\n"
   ]
  },
  {
   "cell_type": "code",
   "execution_count": null,
   "id": "80d4ee54",
   "metadata": {},
   "outputs": [],
   "source": []
  },
  {
   "cell_type": "code",
   "execution_count": null,
   "id": "e1da9d3e",
   "metadata": {},
   "outputs": [],
   "source": []
  }
 ],
 "metadata": {
  "kernelspec": {
   "display_name": "Python 3 (ipykernel)",
   "language": "python",
   "name": "python3"
  },
  "language_info": {
   "codemirror_mode": {
    "name": "ipython",
    "version": 3
   },
   "file_extension": ".py",
   "mimetype": "text/x-python",
   "name": "python",
   "nbconvert_exporter": "python",
   "pygments_lexer": "ipython3",
   "version": "3.9.7"
  }
 },
 "nbformat": 4,
 "nbformat_minor": 5
}
