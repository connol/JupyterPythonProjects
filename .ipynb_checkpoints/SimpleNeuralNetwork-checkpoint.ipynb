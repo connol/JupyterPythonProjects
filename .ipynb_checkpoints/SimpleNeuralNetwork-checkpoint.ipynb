{
 "cells": [
  {
   "cell_type": "code",
   "execution_count": 3,
   "id": "e0fe354d",
   "metadata": {},
   "outputs": [],
   "source": [
    "import numpy as np"
   ]
  },
  {
   "cell_type": "code",
   "execution_count": 4,
   "id": "dfd9e27c",
   "metadata": {},
   "outputs": [],
   "source": [
    "feature_set= np.array([[0,1,0],[0,0,1],[1,0,0],[1,1,0],[1,1,1]])\n",
    "#Attempting to predict these answers for feature_set\n",
    "labels=np.array([[1,0,0,1,1]])\n",
    "labels=labels.reshape(5,1)"
   ]
  },
  {
   "cell_type": "code",
   "execution_count": 5,
   "id": "346cdf28",
   "metadata": {},
   "outputs": [],
   "source": [
    "np.random.seed(42)\n",
    "weights = np.random.rand(3,1)\n",
    "bias=np.random.rand(1)\n",
    "lr=0.05"
   ]
  },
  {
   "cell_type": "code",
   "execution_count": 6,
   "id": "eac572b0",
   "metadata": {},
   "outputs": [],
   "source": [
    "def sigmoid(x):\n",
    "    return 1/(1+np.exp(-x))\n"
   ]
  },
  {
   "cell_type": "code",
   "execution_count": 7,
   "id": "309b283b",
   "metadata": {},
   "outputs": [],
   "source": [
    "def sigmoid_der(x):\n",
    "    return sigmoid(x)*(1-sigmoid(x))"
   ]
  },
  {
   "cell_type": "code",
   "execution_count": 9,
   "id": "71180ccf",
   "metadata": {},
   "outputs": [],
   "source": [
    "for epoch in range(20000):\n",
    "    inputs = feature_set\n",
    "    \n",
    "    #feedforward step1\n",
    "    XW = np.dot(feature_set,weights) + bias\n",
    "    \n",
    "    #feedforward step2\n",
    "    z = sigmoid(XW)\n",
    "    \n",
    "    \n",
    "    #backpropagation step 1\n",
    "    error = z - labels\n",
    "    \n",
    "    #backpropagation step 2\n",
    "    dcost_dpred = error\n",
    "    dpred_dz = sigmoid_der(z)\n",
    "    \n",
    "    z_delta = dcost_dpred * dpred_dz\n",
    "    \n",
    "    inputs = feature_set.T\n",
    "    weights -= lr * np.dot(inputs,z_delta)\n",
    "    \n",
    "    for num in z_delta:\n",
    "        bias -= lr * num"
   ]
  },
  {
   "cell_type": "code",
   "execution_count": 10,
   "id": "bd7a6322",
   "metadata": {},
   "outputs": [
    {
     "name": "stdout",
     "output_type": "stream",
     "text": [
      "[0.0035208]\n"
     ]
    }
   ],
   "source": [
    "single_point = np.array([1,0,0])\n",
    "result = sigmoid(np.dot(single_point,weights)+ bias)\n",
    "print(result)"
   ]
  },
  {
   "cell_type": "code",
   "execution_count": 11,
   "id": "02021da2",
   "metadata": {},
   "outputs": [
    {
     "name": "stdout",
     "output_type": "stream",
     "text": [
      "[0.99922069]\n"
     ]
    }
   ],
   "source": [
    "single_point = np.array([0,1,0])\n",
    "result = sigmoid(np.dot(single_point,weights)+ bias)\n",
    "print(result)"
   ]
  },
  {
   "cell_type": "code",
   "execution_count": null,
   "id": "dce94e85",
   "metadata": {},
   "outputs": [],
   "source": []
  }
 ],
 "metadata": {
  "kernelspec": {
   "display_name": "Python 3 (ipykernel)",
   "language": "python",
   "name": "python3"
  },
  "language_info": {
   "codemirror_mode": {
    "name": "ipython",
    "version": 3
   },
   "file_extension": ".py",
   "mimetype": "text/x-python",
   "name": "python",
   "nbconvert_exporter": "python",
   "pygments_lexer": "ipython3",
   "version": "3.9.7"
  }
 },
 "nbformat": 4,
 "nbformat_minor": 5
}
